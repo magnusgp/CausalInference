{
 "cells": [
  {
   "cell_type": "code",
   "execution_count": 1,
   "metadata": {},
   "outputs": [
    {
     "name": "stdout",
     "output_type": "stream",
     "text": [
      "   Unnamed: 0         A         B         C         D\n",
      "0           0  0.506398  0.128444 -0.601712  1.377955\n",
      "1           1  6.566043 -0.201448  0.020567  6.767491\n",
      "2           2  2.125280 -0.371385  1.104718  4.496665\n",
      "3           3 -0.307083 -0.074210 -1.260847 -0.232873\n",
      "4           4  1.399106  1.780892 -0.273860 -0.381786\n"
     ]
    }
   ],
   "source": [
    "import pandas as pd\n",
    "# Load data\n",
    "data = pd.read_csv('sample/data_435.csv')\n",
    "print(data.head())"
   ]
  },
  {
   "cell_type": "markdown",
   "metadata": {},
   "source": [
    "We want to figure out what which of the 4 nodes to intervene on."
   ]
  },
  {
   "cell_type": "code",
   "execution_count": null,
   "metadata": {},
   "outputs": [],
   "source": []
  }
 ],
 "metadata": {
  "interpreter": {
   "hash": "34a7fac348d5b5ea7d953af8c3adf893dfa40d10ffce4c330379bdd3c546b3f8"
  },
  "kernelspec": {
   "display_name": "Python 3.8.5 ('causal-inference': venv)",
   "language": "python",
   "name": "python3"
  },
  "language_info": {
   "codemirror_mode": {
    "name": "ipython",
    "version": 3
   },
   "file_extension": ".py",
   "mimetype": "text/x-python",
   "name": "python",
   "nbconvert_exporter": "python",
   "pygments_lexer": "ipython3",
   "version": "3.8.5"
  },
  "orig_nbformat": 4
 },
 "nbformat": 4,
 "nbformat_minor": 2
}
