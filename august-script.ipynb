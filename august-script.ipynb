{
 "cells": [
  {
   "cell_type": "code",
   "execution_count": 1,
   "metadata": {},
   "outputs": [
    {
     "name": "stdout",
     "output_type": "stream",
     "text": [
      "   Unnamed: 0         A         B         C         D\n",
      "0           0  0.506398  0.128444 -0.601712  1.377955\n",
      "1           1  6.566043 -0.201448  0.020567  6.767491\n",
      "2           2  2.125280 -0.371385  1.104718  4.496665\n",
      "3           3 -0.307083 -0.074210 -1.260847 -0.232873\n",
      "4           4  1.399106  1.780892 -0.273860 -0.381786\n"
     ]
    }
   ],
   "source": [
    "import pandas as pd\n",
    "# Load data\n",
    "data = pd.read_csv('sample/data_435.csv')\n",
    "print(data.head())"
   ]
  },
  {
   "cell_type": "markdown",
   "metadata": {},
   "source": [
    "We want to figure out what which of the 4 nodes to intervene on. Firstly, we find the distribution of each of the nodes."
   ]
  },
  {
   "cell_type": "code",
   "execution_count": 2,
   "metadata": {},
   "outputs": [],
   "source": [
    "import scipy.stats as st\n",
    "def get_best_distribution(data):\n",
    "    dist_names = [\"norm\", \"exponweib\", \"weibull_max\", \"weibull_min\", \"pareto\", \"genextreme\"]\n",
    "    dist_results = []\n",
    "    params = {}\n",
    "    for dist_name in dist_names:\n",
    "        dist = getattr(st, dist_name)\n",
    "        param = dist.fit(data)\n",
    "\n",
    "        params[dist_name] = param\n",
    "        # Applying the Kolmogorov-Smirnov test\n",
    "        D, p = st.kstest(data, dist_name, args=param)\n",
    "        print(\"p value for \"+dist_name+\" = \"+str(p))\n",
    "        dist_results.append((dist_name, p))\n",
    "\n",
    "    # select the best fitted distribution\n",
    "    best_dist, best_p = (max(dist_results, key=lambda item: item[1]))\n",
    "    # store the name of the best fit and its p value\n",
    "\n",
    "    print(\"Best fitting distribution: \"+str(best_dist))\n",
    "    print(\"Best p value: \"+ str(best_p))\n",
    "    print(\"Parameters for the best fit: \"+ str(params[best_dist]))\n",
    "\n",
    "    return best_dist, best_p, params[best_dist]"
   ]
  },
  {
   "cell_type": "code",
   "execution_count": 3,
   "metadata": {},
   "outputs": [
    {
     "name": "stdout",
     "output_type": "stream",
     "text": [
      "p value for norm = 0.37301650062939434\n",
      "p value for exponweib = 0.9443011596570293\n",
      "p value for weibull_max = 1.5459005963754395e-61\n",
      "p value for weibull_min = 1.3928661247093091e-30\n",
      "p value for pareto = 2.253683580563793e-06\n",
      "p value for genextreme = 0.9131069143327561\n",
      "Best fitting distribution: exponweib\n",
      "Best p value: 0.9443011596570293\n",
      "Parameters for the best fit: (55.020604615753314, 1.8132669680304456, -11.143329953518474, 5.516877427617473)\n",
      "exponweib\n"
     ]
    },
    {
     "name": "stderr",
     "output_type": "stream",
     "text": [
      "/Users/augusttollerup/Documents/SEM4/Active-ML/Miniproject2/CausalInference/causal-inference/lib/python3.8/site-packages/scipy/stats/_distn_infrastructure.py:2640: RuntimeWarning: invalid value encountered in double_scalars\n",
      "  Lhat = muhat - Shat*mu\n"
     ]
    }
   ],
   "source": [
    "# Test get_best_distribution\n",
    "print(get_best_distribution(data[\"A\"]))"
   ]
  },
  {
   "cell_type": "code",
   "execution_count": 5,
   "metadata": {},
   "outputs": [
    {
     "data": {
      "image/png": "[encoded data removed]",
      "text/plain": [
       "<Figure size 720x720 with 4 Axes>"
      ]
     },
     "metadata": {
      "needs_background": "light"
     },
     "output_type": "display_data"
    }
   ],
   "source": [
    "# Plot 4 histograms\n",
    "import matplotlib.pyplot as plt\n",
    "fig, ax = plt.subplots(nrows=2, ncols=2, figsize=(10, 10))\n",
    "ax[0, 0].hist(data['A'], bins=25)\n",
    "ax[0, 1].hist(data['B'], bins=25)\n",
    "ax[1, 0].hist(data['C'], bins=25)\n",
    "ax[1, 1].hist(data['D'], bins=25)\n",
    "ax[0, 0].set_title('A')\n",
    "ax[0, 1].set_title('B')\n",
    "ax[1, 0].set_title('C')\n",
    "ax[1, 1].set_title('D')\n",
    "plt.show()"
   ]
  }
 ],
 "metadata": {
  "interpreter": {
   "hash": "34a7fac348d5b5ea7d953af8c3adf893dfa40d10ffce4c330379bdd3c546b3f8"
  },
  "kernelspec": {
   "display_name": "Python 3.8.5 ('causal-inference': venv)",
   "language": "python",
   "name": "python3"
  },
  "language_info": {
   "codemirror_mode": {
    "name": "ipython",
    "version": 3
   },
   "file_extension": ".py",
   "mimetype": "text/x-python",
   "name": "python",
   "nbconvert_exporter": "python",
   "pygments_lexer": "ipython3",
   "version": "3.8.5"
  },
  "orig_nbformat": 4
 },
 "nbformat": 4,
 "nbformat_minor": 2
}
